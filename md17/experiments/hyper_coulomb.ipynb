{
 "cells": [
  {
   "cell_type": "code",
   "execution_count": 1,
   "metadata": {},
   "outputs": [
    {
     "name": "stderr",
     "output_type": "stream",
     "text": [
      "WARNING:absl:No GPU/TPU found, falling back to CPU. (Set TF_CPP_MIN_LOG_LEVEL=0 and rerun for more info.)\n"
     ]
    }
   ],
   "source": [
    "%load_ext autoreload\n",
    "%autoreload 2\n",
    "import jax\n",
    "import jax.numpy as jnp\n",
    "import numpy as np\n",
    "from jax.config import config\n",
    "from gdml_jax.util.datasets import load_md17\n",
    "from gdml_jax.kernels import rbf, DescriptorKernel, sGDMLKernel\n",
    "from gdml_jax.models import GDMLPredict, GDMLPredictEnergy\n",
    "from gdml_jax.solve import solve_closed\n",
    "from gdml_jax import losses\n",
    "\n",
    "# enable double precision\n",
    "config.update(\"jax_enable_x64\", True)\n",
    "\n",
    "# args\n",
    "DATA_DIR = 'data/train'\n",
    "MOLECULE = \"ethanol\"\n",
    "N_TRAIN = 100\n",
    "N_TEST = 200\n",
    "REG = 1e-10\n",
    "\n",
    "# data loading\n",
    "trainset, testset, meta = load_md17(MOLECULE, N_TRAIN, N_TEST, DATA_DIR)\n",
    "train_x, train_e, train_y = trainset\n",
    "test_x, test_e, test_y = testset\n",
    "\n",
    "def loss_from_kernel(basekernel, kernel_kwargs, reg=REG):\n",
    "    params = solve_closed(basekernel, train_x, train_y, reg=reg, kernel_kwargs=kernel_kwargs, verbose=False)\n",
    "    force_fn = GDMLPredict(basekernel, train_x)\n",
    "    preds_y = force_fn(params, test_x)\n",
    "    energy_fn = GDMLPredictEnergy(basekernel, train_x, train_e, params)\n",
    "    preds_e = energy_fn(test_x)\n",
    "    return {\n",
    "        \"force MSE\": losses.mse(test_y, preds_y),\n",
    "        \"force MAE\": losses.mae(test_y, preds_y),\n",
    "        \"energy MSE\": losses.mse(test_e, preds_e),\n",
    "        \"energy MAE\": losses.mae(test_e, preds_e),\n",
    "    }"
   ]
  },
  {
   "cell_type": "code",
   "execution_count": 2,
   "metadata": {},
   "outputs": [
    {
     "data": {
      "text/plain": [
       "{'force MSE': DeviceArray(9.19735806, dtype=float64),\n",
       " 'force MAE': DeviceArray(2.16467254, dtype=float64),\n",
       " 'energy MSE': DeviceArray(0.7140331, dtype=float64),\n",
       " 'energy MAE': DeviceArray(0.65582486, dtype=float64)}"
      ]
     },
     "execution_count": 2,
     "metadata": {},
     "output_type": "execute_result"
    }
   ],
   "source": [
    "def gdml_descriptor(r):\n",
    "    \"\"\"(N,3) -> (N choose 2)\"\"\"\n",
    "    n_atoms, n_dim = r.shape\n",
    "    idx1, idx2 = np.triu_indices(n_atoms, k=1)\n",
    "    pair_fn = lambda ri, rj: 1.0 / jnp.linalg.norm(ri - rj)\n",
    "    return jax.vmap(lambda i, j: pair_fn(r[i], r[j]))(idx1, idx2)\n",
    "\n",
    "# sanity-check\n",
    "gdml_kernel = DescriptorKernel(gdml_descriptor, rbf)\n",
    "loss_from_kernel(gdml_kernel, {\"lengthscale\": 10.0})"
   ]
  },
  {
   "cell_type": "code",
   "execution_count": 3,
   "metadata": {},
   "outputs": [
    {
     "name": "stdout",
     "output_type": "stream",
     "text": [
      "power 0.5 10.629931424135238 2.329693839519871 0.773222969471347 0.6970459661634959\n",
      "power 0.8 9.002620476284214 2.1324941240081836 0.7352335272738347 0.6709299952288711\n",
      "power 0.9 8.989997879776471 2.1333137093320658 0.7241179521511433 0.6616349628914759\n",
      "power 0.999 9.194337973233973 2.16424266147777 0.7141280267399462 0.6558783930882782\n",
      "power 1.0 9.197358063199518 2.164672543888567 0.714033102375623 0.6558248647490836\n",
      "power 1.001 9.2003952245211 2.1651033177536707 0.7139382019854533 0.6557712932212598\n",
      "power 1.2 10.106274211357087 2.282721821859235 0.697452506183975 0.6447484203895875\n",
      "power 1.5 12.26643859534853 2.517362734895154 0.6824181252897492 0.6364926310559531\n",
      "power 2.0 17.00503372778464 2.953640016592416 0.6884438284807566 0.647577607406347\n"
     ]
    }
   ],
   "source": [
    "def powered_coulomb_descriptor(r, power=1.0):\n",
    "    \"\"\"(N,3) -> (N choose 2)\"\"\"\n",
    "    n_atoms, n_dim = r.shape\n",
    "    idx1, idx2 = np.triu_indices(n_atoms, k=1)\n",
    "    pair_fn = lambda ri, rj: 1.0 / jnp.linalg.norm(ri - rj) ** power\n",
    "    return jax.vmap(lambda i, j: pair_fn(r[i], r[j]))(idx1, idx2)\n",
    "\n",
    "def loss_from_power(power):\n",
    "    basekernel = DescriptorKernel(powered_coulomb_descriptor, rbf)\n",
    "    kernel_kwargs = {\n",
    "        \"lengthscale\": 10.0,\n",
    "        \"descriptor_kwargs\": {\"power\": power},   \n",
    "    }\n",
    "    return loss_from_kernel(basekernel, kernel_kwargs)\n",
    "\n",
    "ls = []\n",
    "for power in [0.5, 0.8, 0.9, 0.999, 1.0, 1.001, 1.2, 1.5, 2.0]:\n",
    "    loss = loss_from_power(power)\n",
    "    ls += [loss]\n",
    "    print(\"power\", power, loss[\"force MSE\"], loss[\"force MAE\"], loss[\"energy MSE\"], loss[\"energy MAE\"])"
   ]
  },
  {
   "cell_type": "code",
   "execution_count": 4,
   "metadata": {},
   "outputs": [],
   "source": [
    "powers = np.linspace(0, 2, num=20)\n",
    "losses_powers = [loss_from_power(power) for power in powers]"
   ]
  },
  {
   "cell_type": "code",
   "execution_count": 5,
   "metadata": {},
   "outputs": [
    {
     "data": {
      "image/png": "[encoded data removed]",
      "text/plain": [
       "<Figure size 640x480 with 1 Axes>"
      ]
     },
     "metadata": {},
     "output_type": "display_data"
    }
   ],
   "source": [
    "import matplotlib.pyplot as plt\n",
    "plt.plot(powers, [l[\"force MSE\"] for l in losses_powers])\n",
    "plt.plot(powers, [l[\"force MAE\"] for l in losses_powers])\n",
    "plt.yscale(\"log\")"
   ]
  },
  {
   "cell_type": "code",
   "execution_count": 6,
   "metadata": {},
   "outputs": [
    {
     "data": {
      "text/plain": [
       "(DeviceArray(9.19735777, dtype=float64),\n",
       " DeviceArray(3.02863913, dtype=float64, weak_type=True))"
      ]
     },
     "execution_count": 6,
     "metadata": {},
     "output_type": "execute_result"
    }
   ],
   "source": [
    "grad_fn = jax.jit(jax.value_and_grad(lambda p: loss_from_power(p)[\"force MSE\"]))\n",
    "grad_fn(1.0)"
   ]
  },
  {
   "cell_type": "code",
   "execution_count": 12,
   "metadata": {},
   "outputs": [
    {
     "name": "stdout",
     "output_type": "stream",
     "text": [
      "0 9.19735776798425 {'power': DeviceArray(0.99, dtype=float64)}\n",
      "1 9.167961937310643 {'power': DeviceArray(0.98002047, dtype=float64)}\n",
      "2 9.140429273459365 {'power': DeviceArray(0.97007786, dtype=float64)}\n",
      "3 9.114832580352271 {'power': DeviceArray(0.96019108, dtype=float64)}\n",
      "4 9.091235500823892 {'power': DeviceArray(0.95038177, dtype=float64)}\n",
      "5 9.069695368719746 {'power': DeviceArray(0.94067461, dtype=float64)}\n",
      "6 9.050255332101905 {'power': DeviceArray(0.93109758, dtype=float64)}\n",
      "7 9.032943862531775 {'power': DeviceArray(0.92168226, dtype=float64)}\n",
      "8 9.017771570008378 {'power': DeviceArray(0.91246392, dtype=float64)}\n",
      "9 9.004726362367652 {'power': DeviceArray(0.90348164, dtype=float64)}\n"
     ]
    },
    {
     "data": {
      "text/plain": [
       "{'power': DeviceArray(0.90348164, dtype=float64)}"
      ]
     },
     "execution_count": 12,
     "metadata": {},
     "output_type": "execute_result"
    }
   ],
   "source": [
    "import optax\n",
    "\n",
    "def print_callback(i, loss, params):\n",
    "    print(i, loss, params)\n",
    "\n",
    "def fit(loss_fn, params, optimizer, cb=print_callback):\n",
    "\n",
    "    @jax.jit\n",
    "    def train_step(params, opt_state):\n",
    "        loss, grads = jax.value_and_grad(loss_fn)(params)\n",
    "        updates, opt_state = optimizer.update(grads, opt_state, params)\n",
    "        new_params = optax.apply_updates(params, updates)\n",
    "        return new_params, opt_state, loss\n",
    "    \n",
    "    opt_state = optimizer.init(params)\n",
    "    for i in range(steps):\n",
    "        params, opt_state, loss = train_step(params, opt_state)\n",
    "        cb(i, loss, params)\n",
    "    \n",
    "    return params\n",
    "\n",
    "def loss_fn(params):\n",
    "    return loss_from_power(params[\"power\"])[\"force MSE\"]\n",
    "\n",
    "steps = 10\n",
    "optimizer = optax.adam(1e-2)\n",
    "params = {\"power\": 1.0}\n",
    "fit(loss_fn, params, optimizer)"
   ]
  },
  {
   "cell_type": "markdown",
   "metadata": {},
   "source": [
    "# Interpolate between two kernels\n",
    "\n",
    "E.g. at different length scales"
   ]
  },
  {
   "cell_type": "code",
   "execution_count": 6,
   "metadata": {},
   "outputs": [
    {
     "name": "stdout",
     "output_type": "stream",
     "text": [
      "2.0 {'force MSE': DeviceArray(18.63398343, dtype=float64), 'force MAE': DeviceArray(3.12104722, dtype=float64), 'energy MSE': DeviceArray(0.76308332, dtype=float64), 'energy MAE': DeviceArray(0.65212201, dtype=float64)}\n",
      "4.0 {'force MSE': DeviceArray(17.52967506, dtype=float64), 'force MAE': DeviceArray(3.02118867, dtype=float64), 'energy MSE': DeviceArray(0.75144687, dtype=float64), 'energy MAE': DeviceArray(0.64138901, dtype=float64)}\n",
      "6.0 {'force MSE': DeviceArray(13.73956529, dtype=float64), 'force MAE': DeviceArray(2.6691914, dtype=float64), 'energy MSE': DeviceArray(0.70093563, dtype=float64), 'energy MAE': DeviceArray(0.61753091, dtype=float64)}\n",
      "8.0 {'force MSE': DeviceArray(10.80010362, dtype=float64), 'force MAE': DeviceArray(2.3588432, dtype=float64), 'energy MSE': DeviceArray(0.73259648, dtype=float64), 'energy MAE': DeviceArray(0.64399561, dtype=float64)}\n",
      "10.0 {'force MSE': DeviceArray(9.19735806, dtype=float64), 'force MAE': DeviceArray(2.16467254, dtype=float64), 'energy MSE': DeviceArray(0.7140331, dtype=float64), 'energy MAE': DeviceArray(0.65582486, dtype=float64)}\n",
      "12.0 {'force MSE': DeviceArray(8.49017537, dtype=float64), 'force MAE': DeviceArray(2.07043634, dtype=float64), 'energy MSE': DeviceArray(0.67221527, dtype=float64), 'energy MAE': DeviceArray(0.65095613, dtype=float64)}\n",
      "14.0 {'force MSE': DeviceArray(8.19201011, dtype=float64), 'force MAE': DeviceArray(2.03104496, dtype=float64), 'energy MSE': DeviceArray(0.65004571, dtype=float64), 'energy MAE': DeviceArray(0.6456715, dtype=float64)}\n",
      "16.0 {'force MSE': DeviceArray(8.06371925, dtype=float64), 'force MAE': DeviceArray(2.01601281, dtype=float64), 'energy MSE': DeviceArray(0.64473355, dtype=float64), 'energy MAE': DeviceArray(0.64294158, dtype=float64)}\n",
      "18.0 {'force MSE': DeviceArray(8.00661416, dtype=float64), 'force MAE': DeviceArray(2.01005138, dtype=float64), 'energy MSE': DeviceArray(0.64674619, dtype=float64), 'energy MAE': DeviceArray(0.64216622, dtype=float64)}\n",
      "20.0 {'force MSE': DeviceArray(7.98070937, dtype=float64), 'force MAE': DeviceArray(2.00764014, dtype=float64), 'energy MSE': DeviceArray(0.65198253, dtype=float64), 'energy MAE': DeviceArray(0.64561884, dtype=float64)}\n"
     ]
    }
   ],
   "source": [
    "for l in [2.0, 4.0, 6.0, 8.0, 10.0, 12.0, 14.0, 16.0, 18.0, 20.0]:\n",
    "    print(l, loss_from_kernel(gdml_kernel, {\"lengthscale\": l}))"
   ]
  },
  {
   "cell_type": "code",
   "execution_count": 3,
   "metadata": {},
   "outputs": [
    {
     "data": {
      "text/plain": [
       "DeviceArray(0.942042, dtype=float64)"
      ]
     },
     "execution_count": 3,
     "metadata": {},
     "output_type": "execute_result"
    }
   ],
   "source": [
    "from gdml_jax.kernels import sGDMLKernel\n",
    "from gdml_jax.util.datasets import get_symmetries\n",
    "perms = get_symmetries(MOLECULE)\n",
    "sgdml_kernel = sGDMLKernel(meta['shape'], perms=perms)\n",
    "sgdml_kernel(train_x[0], train_x[1])"
   ]
  },
  {
   "cell_type": "code",
   "execution_count": 8,
   "metadata": {},
   "outputs": [
    {
     "name": "stdout",
     "output_type": "stream",
     "text": [
      "2.0 {'force MSE': DeviceArray(2.2840402, dtype=float64), 'force MAE': DeviceArray(1.0685905, dtype=float64), 'energy MSE': DeviceArray(0.06590669, dtype=float64), 'energy MAE': DeviceArray(0.17819039, dtype=float64)}\n",
      "4.0 {'force MSE': DeviceArray(1.65460302, dtype=float64), 'force MAE': DeviceArray(0.90956195, dtype=float64), 'energy MSE': DeviceArray(0.07960195, dtype=float64), 'energy MAE': DeviceArray(0.21882415, dtype=float64)}\n",
      "6.0 {'force MSE': DeviceArray(2.31370029, dtype=float64), 'force MAE': DeviceArray(1.07569003, dtype=float64), 'energy MSE': DeviceArray(0.16544809, dtype=float64), 'energy MAE': DeviceArray(0.32588118, dtype=float64)}\n",
      "8.0 {'force MSE': DeviceArray(3.30399339, dtype=float64), 'force MAE': DeviceArray(1.29246243, dtype=float64), 'energy MSE': DeviceArray(0.2673612, dtype=float64), 'energy MAE': DeviceArray(0.40958653, dtype=float64)}\n",
      "10.0 {'force MSE': DeviceArray(4.14608582, dtype=float64), 'force MAE': DeviceArray(1.45083987, dtype=float64), 'energy MSE': DeviceArray(0.34129418, dtype=float64), 'energy MAE': DeviceArray(0.46354355, dtype=float64)}\n",
      "12.0 {'force MSE': DeviceArray(4.7031277, dtype=float64), 'force MAE': DeviceArray(1.54657498, dtype=float64), 'energy MSE': DeviceArray(0.39547098, dtype=float64), 'energy MAE': DeviceArray(0.49985026, dtype=float64)}\n",
      "14.0 {'force MSE': DeviceArray(5.05946575, dtype=float64), 'force MAE': DeviceArray(1.60760604, dtype=float64), 'energy MSE': DeviceArray(0.43348454, dtype=float64), 'energy MAE': DeviceArray(0.52264478, dtype=float64)}\n",
      "16.0 {'force MSE': DeviceArray(5.29852683, dtype=float64), 'force MAE': DeviceArray(1.65063175, dtype=float64), 'energy MSE': DeviceArray(0.4604016, dtype=float64), 'energy MAE': DeviceArray(0.53735768, dtype=float64)}\n",
      "18.0 {'force MSE': DeviceArray(5.46551602, dtype=float64), 'force MAE': DeviceArray(1.67986356, dtype=float64), 'energy MSE': DeviceArray(0.47969469, dtype=float64), 'energy MAE': DeviceArray(0.54758343, dtype=float64)}\n",
      "20.0 {'force MSE': DeviceArray(5.58731898, dtype=float64), 'force MAE': DeviceArray(1.70016861, dtype=float64), 'energy MSE': DeviceArray(0.49437882, dtype=float64), 'energy MAE': DeviceArray(0.55539781, dtype=float64)}\n"
     ]
    }
   ],
   "source": [
    "for l in [2.0, 4.0, 6.0, 8.0, 10.0, 12.0, 14.0, 16.0, 18.0, 20.0]:\n",
    "    print(l, loss_from_kernel(sgdml_kernel, {\"lengthscale\": l}))"
   ]
  },
  {
   "cell_type": "code",
   "execution_count": 4,
   "metadata": {},
   "outputs": [],
   "source": [
    "def mixed_kappa(x1, x2, lengthscale1, lengthscale2, tradeoff):\n",
    "    k1 = rbf(x1, x2, lengthscale=lengthscale1)\n",
    "    k2 = rbf(x1, x2, lengthscale=lengthscale2)\n",
    "    return (1 - tradeoff) * k1 + tradeoff * k2\n",
    "\n",
    "mixed_kernel = sGDMLKernel(meta['shape'], kappa=mixed_kappa, perms=perms)"
   ]
  },
  {
   "cell_type": "code",
   "execution_count": 10,
   "metadata": {},
   "outputs": [
    {
     "name": "stdout",
     "output_type": "stream",
     "text": [
      "2.0 {'force MSE': DeviceArray(2.12708693, dtype=float64), 'force MAE': DeviceArray(1.03073715, dtype=float64), 'energy MSE': DeviceArray(0.06224545, dtype=float64), 'energy MAE': DeviceArray(0.17917003, dtype=float64)}\n",
      "4.0 {'force MSE': DeviceArray(1.65460302, dtype=float64), 'force MAE': DeviceArray(0.90956195, dtype=float64), 'energy MSE': DeviceArray(0.07960195, dtype=float64), 'energy MAE': DeviceArray(0.21882415, dtype=float64)}\n",
      "6.0 {'force MSE': DeviceArray(1.73323048, dtype=float64), 'force MAE': DeviceArray(0.93052039, dtype=float64), 'energy MSE': DeviceArray(0.09132694, dtype=float64), 'energy MAE': DeviceArray(0.23813276, dtype=float64)}\n",
      "8.0 {'force MSE': DeviceArray(1.74534873, dtype=float64), 'force MAE': DeviceArray(0.93379489, dtype=float64), 'energy MSE': DeviceArray(0.09300342, dtype=float64), 'energy MAE': DeviceArray(0.24081406, dtype=float64)}\n",
      "10.0 {'force MSE': DeviceArray(1.7472089, dtype=float64), 'force MAE': DeviceArray(0.93431416, dtype=float64), 'energy MSE': DeviceArray(0.0933577, dtype=float64), 'energy MAE': DeviceArray(0.24135798, dtype=float64)}\n",
      "12.0 {'force MSE': DeviceArray(1.74752964, dtype=float64), 'force MAE': DeviceArray(0.93442935, dtype=float64), 'energy MSE': DeviceArray(0.09351079, dtype=float64), 'energy MAE': DeviceArray(0.24156826, dtype=float64)}\n",
      "14.0 {'force MSE': DeviceArray(1.74756426, dtype=float64), 'force MAE': DeviceArray(0.93446511, dtype=float64), 'energy MSE': DeviceArray(0.09361473, dtype=float64), 'energy MAE': DeviceArray(0.24169744, dtype=float64)}\n",
      "16.0 {'force MSE': DeviceArray(1.74754785, dtype=float64), 'force MAE': DeviceArray(0.93448963, dtype=float64), 'energy MSE': DeviceArray(0.09369697, dtype=float64), 'energy MAE': DeviceArray(0.24179385, dtype=float64)}\n",
      "18.0 {'force MSE': DeviceArray(1.74752977, dtype=float64), 'force MAE': DeviceArray(0.9345053, dtype=float64), 'energy MSE': DeviceArray(0.09376471, dtype=float64), 'energy MAE': DeviceArray(0.24187074, dtype=float64)}\n",
      "20.0 {'force MSE': DeviceArray(1.74751963, dtype=float64), 'force MAE': DeviceArray(0.93451806, dtype=float64), 'energy MSE': DeviceArray(0.09382109, dtype=float64), 'energy MAE': DeviceArray(0.24193352, dtype=float64)}\n"
     ]
    }
   ],
   "source": [
    "for l in [2.0, 4.0, 6.0, 8.0, 10.0, 12.0, 14.0, 16.0, 18.0, 20.0]:\n",
    "    print(l, loss_from_kernel(mixed_kernel, {\"lengthscale1\": 4.0, \"lengthscale2\": l, \"tradeoff\": 0.5}))"
   ]
  },
  {
   "cell_type": "code",
   "execution_count": 11,
   "metadata": {},
   "outputs": [],
   "source": [
    "for t in [0.0, 0.1, 0.2, 0.3, 0.4, 0.5, 0.6, 0.7, 0.8, 0.9, 1.0]:\n",
    "    print(t, loss_from_kernel(mixed_kernel, {\"lengthscale1\": 4.0, \"lengthscale2\": 8.0, \"tradeoff\": t}))"
   ]
  },
  {
   "cell_type": "markdown",
   "metadata": {},
   "source": [
    "# Gradients w.r.t. kernel parameters"
   ]
  },
  {
   "cell_type": "code",
   "execution_count": 5,
   "metadata": {},
   "outputs": [
    {
     "name": "stdout",
     "output_type": "stream",
     "text": [
      "0.06299408183381465\n",
      "0.06299408075767587\n"
     ]
    }
   ],
   "source": [
    "@jax.jit\n",
    "def loss_fn(l):\n",
    "    kernel_kwargs = {\"lengthscale1\": 4.0, \"lengthscale2\": l, \"tradeoff\": 0.5}\n",
    "    return loss_from_kernel(mixed_kernel, kernel_kwargs)[\"force MSE\"]\n",
    "\n",
    "fwd_grad_fn = jax.jit(jax.jacfwd(loss_fn))\n",
    "print(fwd_grad_fn(4.0))\n",
    "rev_grad_fn = jax.jit(jax.grad(loss_fn))\n",
    "print(rev_grad_fn(4.0))"
   ]
  },
  {
   "cell_type": "code",
   "execution_count": 6,
   "metadata": {},
   "outputs": [
    {
     "name": "stdout",
     "output_type": "stream",
     "text": [
      "2.55 s ± 137 ms per loop (mean ± std. dev. of 7 runs, 1 loop each)\n",
      "3.71 s ± 122 ms per loop (mean ± std. dev. of 7 runs, 1 loop each)\n",
      "3.34 s ± 124 ms per loop (mean ± std. dev. of 7 runs, 1 loop each)\n"
     ]
    }
   ],
   "source": [
    "%timeit jax.block_until_ready(loss_fn(4.0))\n",
    "%timeit jax.block_until_ready(fwd_grad_fn(4.0))\n",
    "%timeit jax.block_until_ready(rev_grad_fn(4.0))"
   ]
  },
  {
   "cell_type": "code",
   "execution_count": null,
   "metadata": {},
   "outputs": [],
   "source": []
  }
 ],
 "metadata": {
  "kernelspec": {
   "display_name": "Python 3.8.13 ('ad-kernels')",
   "language": "python",
   "name": "python3"
  },
  "language_info": {
   "codemirror_mode": {
    "name": "ipython",
    "version": 3
   },
   "file_extension": ".py",
   "mimetype": "text/x-python",
   "name": "python",
   "nbconvert_exporter": "python",
   "pygments_lexer": "ipython3",
   "version": "3.8.13"
  },
  "orig_nbformat": 4,
  "vscode": {
   "interpreter": {
    "hash": "e4936808f2f1b853fa2a7573adc9bfb36e09aa7b0ba973d023d3fa637c60934c"
   }
  }
 },
 "nbformat": 4,
 "nbformat_minor": 2
}
