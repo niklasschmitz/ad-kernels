{
 "cells": [
  {
   "cell_type": "code",
   "execution_count": 1,
   "metadata": {},
   "outputs": [
    {
     "name": "stderr",
     "output_type": "stream",
     "text": [
      "WARNING:jax._src.xla_bridge:No GPU/TPU found, falling back to CPU. (Set TF_CPP_MIN_LOG_LEVEL=0 and rerun for more info.)\n"
     ]
    }
   ],
   "source": [
    "import jax\n",
    "import jax.numpy as jnp\n",
    "from jax.config import config\n",
    "from gdml_jax.util.datasets import load_md17\n",
    "from gdml_jax.kernels import GDMLKernel\n",
    "from gdml_jax.models import GDMLPredict, GDMLPredictEnergy\n",
    "from gdml_jax.solve import solve_closed\n",
    "from gdml_jax import losses\n",
    "\n",
    "# enable double precision\n",
    "config.update(\"jax_enable_x64\", True)\n",
    "\n",
    "# args\n",
    "DATA_DIR = \"/tmp/md17\"\n",
    "MOLECULE = \"ethanol\"\n",
    "N_TRAIN = 100\n",
    "N_TEST = 200\n",
    "LENGTHSCALE = 10.\n",
    "REG = 1e-10\n",
    "\n",
    "# data loading\n",
    "trainset, testset, meta = load_md17(MOLECULE, N_TRAIN, N_TEST, DATA_DIR)\n",
    "train_x, train_e, train_f = trainset\n",
    "shape = meta[\"shape\"]\n",
    "\n",
    "# define basekernel and model\n",
    "basekernel = GDMLKernel(shape)\n",
    "kernel_kwargs = {\"lengthscale\": LENGTHSCALE}\n",
    "\n",
    "# solve in closed form\n",
    "params = solve_closed(basekernel, train_x, train_f, reg=REG, kernel_kwargs=kernel_kwargs)"
   ]
  },
  {
   "cell_type": "code",
   "execution_count": 15,
   "metadata": {},
   "outputs": [
    {
     "data": {
      "text/plain": [
       "{'alpha': (100, 9, 3), 'kernel_kwargs': {'lengthscale': ()}}"
      ]
     },
     "execution_count": 15,
     "metadata": {},
     "output_type": "execute_result"
    }
   ],
   "source": [
    "jax.tree_map(jnp.shape, params)"
   ]
  },
  {
   "cell_type": "code",
   "execution_count": 3,
   "metadata": {},
   "outputs": [
    {
     "name": "stdout",
     "output_type": "stream",
     "text": [
      "forces:\n",
      "test MSE: 9.197358087402225\n",
      "test MAE: 2.1646725437465406\n",
      "energies:\n",
      "test MSE: 0.7140331023730744\n",
      "test MAE: 0.6558248631077731\n"
     ]
    }
   ],
   "source": [
    "test_x, test_e, test_f = testset\n",
    "force_fn = GDMLPredict(basekernel, train_x)\n",
    "preds_f = force_fn(params, test_x)\n",
    "print(\"forces:\")\n",
    "print(f\"test MSE: {losses.mse(test_f, preds_f)}\")\n",
    "print(f\"test MAE: {losses.mae(test_f, preds_f)}\")\n",
    "\n",
    "energy_fn = GDMLPredictEnergy(basekernel, train_x, train_e, params)\n",
    "preds_e = energy_fn(test_x)\n",
    "print(\"energies:\")\n",
    "print(f\"test MSE: {losses.mse(test_e, preds_e)}\")\n",
    "print(f\"test MAE: {losses.mae(test_e, preds_e)}\")"
   ]
  },
  {
   "attachments": {},
   "cell_type": "markdown",
   "metadata": {},
   "source": [
    "## Inspecting the sgdml kernelmatrix manually"
   ]
  },
  {
   "cell_type": "code",
   "execution_count": 9,
   "metadata": {},
   "outputs": [
    {
     "data": {
      "text/plain": [
       "(2, 2, 9, 3, 9, 3)"
      ]
     },
     "execution_count": 9,
     "metadata": {},
     "output_type": "execute_result"
    }
   ],
   "source": [
    "from gdml_jax.solve import dkernelmatrix\n",
    "\n",
    "K = dkernelmatrix(basekernel, train_x[:2], train_x[:2], kernel_kwargs=kernel_kwargs, flatten=False)\n",
    "K.shape"
   ]
  },
  {
   "cell_type": "code",
   "execution_count": 10,
   "metadata": {},
   "outputs": [
    {
     "data": {
      "text/plain": [
       "(54, 54)"
      ]
     },
     "execution_count": 10,
     "metadata": {},
     "output_type": "execute_result"
    }
   ],
   "source": [
    "K_flat = dkernelmatrix(basekernel, train_x[:2], train_x[:2], kernel_kwargs=kernel_kwargs, flatten=True)\n",
    "K_flat.shape"
   ]
  },
  {
   "cell_type": "code",
   "execution_count": 13,
   "metadata": {},
   "outputs": [
    {
     "data": {
      "text/plain": [
       "<matplotlib.image.AxesImage at 0x7f7c23e573d0>"
      ]
     },
     "execution_count": 13,
     "metadata": {},
     "output_type": "execute_result"
    },
    {
     "data": {
      "image/png": "[encoded data removed]",
      "text/plain": [
       "<Figure size 432x288 with 1 Axes>"
      ]
     },
     "metadata": {
      "needs_background": "light"
     },
     "output_type": "display_data"
    }
   ],
   "source": [
    "import matplotlib.pyplot as plt\n",
    "plt.imshow(K_flat)"
   ]
  },
  {
   "cell_type": "code",
   "execution_count": null,
   "metadata": {},
   "outputs": [],
   "source": []
  }
 ],
 "metadata": {
  "kernelspec": {
   "display_name": "ad-kernels",
   "language": "python",
   "name": "python3"
  },
  "language_info": {
   "codemirror_mode": {
    "name": "ipython",
    "version": 3
   },
   "file_extension": ".py",
   "mimetype": "text/x-python",
   "name": "python",
   "nbconvert_exporter": "python",
   "pygments_lexer": "ipython3",
   "version": "3.8.16"
  },
  "orig_nbformat": 4
 },
 "nbformat": 4,
 "nbformat_minor": 2
}
