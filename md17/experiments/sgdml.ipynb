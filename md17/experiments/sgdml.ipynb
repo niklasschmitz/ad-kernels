{
 "cells": [
  {
   "cell_type": "code",
   "execution_count": 1,
   "metadata": {},
   "outputs": [
    {
     "name": "stderr",
     "output_type": "stream",
     "text": [
      "No GPU/TPU found, falling back to CPU. (Set TF_CPP_MIN_LOG_LEVEL=0 and rerun for more info.)\n"
     ]
    }
   ],
   "source": [
    "import jax\n",
    "import jax.numpy as jnp\n",
    "from jax.config import config\n",
    "from gdml_jax.util.datasets import load_md17, get_symmetries\n",
    "from gdml_jax.kernels import sGDMLKernel, rbf\n",
    "from gdml_jax.models import GDMLPredict, GDMLPredictEnergy\n",
    "from gdml_jax.solve import solve_closed\n",
    "from gdml_jax import losses\n",
    "from matern import matern52\n",
    "\n",
    "# enable double precision\n",
    "config.update(\"jax_enable_x64\", True)\n",
    "\n",
    "# args\n",
    "DATA_DIR = \"/tmp/md17\"\n",
    "MOLECULE = \"ethanol\"\n",
    "N_TRAIN = 100\n",
    "N_TEST = 200\n",
    "LENGTHSCALE = jnp.float64(10.)\n",
    "REG = jnp.float64(1e-10)\n",
    "\n",
    "# data loading\n",
    "trainset, testset, meta = load_md17(MOLECULE, N_TRAIN, N_TEST, DATA_DIR)\n",
    "train_x, train_e, train_f = trainset\n",
    "shape = meta[\"shape\"]\n",
    "\n",
    "# define basekernel and model\n",
    "perms = get_symmetries(MOLECULE)\n",
    "basekernel = sGDMLKernel(shape, perms=perms, kappa=rbf)\n",
    "kernel_kwargs = {\"lengthscale\": LENGTHSCALE}\n",
    "\n",
    "# solve in closed form\n",
    "params = solve_closed(basekernel, train_x, train_f, reg=REG, kernel_kwargs=kernel_kwargs)"
   ]
  },
  {
   "cell_type": "code",
   "execution_count": 2,
   "metadata": {},
   "outputs": [
    {
     "data": {
      "text/plain": [
       "{'alpha': (100, 9, 3), 'kernel_kwargs': {'lengthscale': ()}}"
      ]
     },
     "execution_count": 2,
     "metadata": {},
     "output_type": "execute_result"
    }
   ],
   "source": [
    "jax.tree_map(jnp.shape, params)"
   ]
  },
  {
   "cell_type": "code",
   "execution_count": 3,
   "metadata": {},
   "outputs": [
    {
     "name": "stdout",
     "output_type": "stream",
     "text": [
      "forces:\n",
      "test MSE: 4.146085838737379\n",
      "test MAE: 1.4508398670445657\n",
      "energies:\n",
      "test MSE: 0.34129418094926595\n",
      "test MAE: 0.4635435465536284\n"
     ]
    }
   ],
   "source": [
    "test_x, test_e, test_f = testset\n",
    "force_fn = GDMLPredict(basekernel, train_x)\n",
    "preds_f = force_fn(params, test_x)\n",
    "print(\"forces:\")\n",
    "print(f\"test MSE: {losses.mse(test_f, preds_f)}\")\n",
    "print(f\"test MAE: {losses.mae(test_f, preds_f)}\")\n",
    "\n",
    "energy_fn = GDMLPredictEnergy(basekernel, train_x, train_e, params)\n",
    "preds_e = energy_fn(test_x)\n",
    "print(\"energies:\")\n",
    "print(f\"test MSE: {losses.mse(test_e, preds_e)}\")\n",
    "print(f\"test MAE: {losses.mae(test_e, preds_e)}\")"
   ]
  },
  {
   "attachments": {},
   "cell_type": "markdown",
   "metadata": {},
   "source": [
    "## Evaluating the scalar basekernel"
   ]
  },
  {
   "cell_type": "code",
   "execution_count": 4,
   "metadata": {},
   "outputs": [
    {
     "data": {
      "text/plain": [
       "Array(0.9994023, dtype=float64)"
      ]
     },
     "execution_count": 4,
     "metadata": {},
     "output_type": "execute_result"
    }
   ],
   "source": [
    "basekernel(train_x[0], train_x[1], **kernel_kwargs)"
   ]
  },
  {
   "cell_type": "code",
   "execution_count": 5,
   "metadata": {},
   "outputs": [
    {
     "data": {
      "text/plain": [
       "Array([[ 4.18021557e-06, -4.00392066e-06,  2.71672859e-06],\n",
       "       [ 1.65503509e-04,  4.63437773e-04, -6.77787033e-04],\n",
       "       [-1.82819573e-06, -4.81822197e-05, -3.35350870e-05],\n",
       "       [ 6.65906797e-05,  6.95985057e-05, -5.19324470e-05],\n",
       "       [-8.29166152e-05, -5.92104139e-05, -4.56246253e-05],\n",
       "       [-2.73364042e-04, -4.32283907e-04,  2.47936142e-04],\n",
       "       [-2.33762466e-04,  6.12563761e-05,  1.06583528e-04],\n",
       "       [ 3.10325363e-04, -9.71276608e-06,  4.40247099e-04],\n",
       "       [ 4.52715524e-05, -4.08994273e-05,  1.13956947e-05]],      dtype=float64)"
      ]
     },
     "execution_count": 5,
     "metadata": {},
     "output_type": "execute_result"
    }
   ],
   "source": [
    "jax.grad(basekernel)(train_x[0], train_x[0], **kernel_kwargs)"
   ]
  },
  {
   "cell_type": "code",
   "execution_count": 6,
   "metadata": {},
   "outputs": [
    {
     "data": {
      "text/plain": [
       "Array([[[[ 4.82881933e-03,  1.91833182e-03,  4.72131021e-06],\n",
       "         [-9.17649358e-05,  2.90795912e-04,  2.54596242e-04],\n",
       "         [-2.44144777e-03, -3.73462913e-04,  5.03194199e-04],\n",
       "         [-5.03085855e-04, -2.26025005e-03,  8.73714370e-04],\n",
       "         [-1.40981596e-03,  3.29400436e-04, -2.02304648e-03],\n",
       "         [-4.36826014e-06,  6.32887641e-05,  1.09445653e-05],\n",
       "         [-4.05716921e-05,  3.05259081e-05,  4.40728256e-05],\n",
       "         [ 1.42490548e-05,  4.20389616e-05,  5.09425415e-05],\n",
       "         [-3.52013914e-04, -4.06688390e-05,  2.80860429e-04]],\n",
       "\n",
       "        [[ 1.91833182e-03,  3.53430142e-03,  2.32661387e-03],\n",
       "         [ 2.90792950e-04, -9.21487703e-04, -8.06793166e-04],\n",
       "         [-3.73462486e-04, -5.71275141e-05,  7.69725791e-05],\n",
       "         [-5.07859377e-04, -2.28169387e-03,  8.82003740e-04],\n",
       "         [-1.42298998e-03,  3.32479711e-04, -2.04195240e-03],\n",
       "         [ 1.93447385e-05, -2.80372513e-04, -4.84806714e-05],\n",
       "         [ 1.79633636e-04, -1.35157028e-04, -1.95132074e-04],\n",
       "         [-6.31222209e-05, -1.86244354e-04, -2.25679682e-04],\n",
       "         [-4.06690810e-05, -4.69814370e-06,  3.24478096e-05]],\n",
       "\n",
       "        [[ 4.72131021e-06,  2.32661387e-03,  2.09083147e-03],\n",
       "         [ 2.54600108e-04, -8.06794284e-04, -7.06374528e-04],\n",
       "         [ 5.03194118e-04,  7.69722568e-05, -1.03710782e-04],\n",
       "         [-3.02234275e-04, -1.35787096e-03,  5.24893988e-04],\n",
       "         [-8.47097692e-04,  1.97921945e-04, -1.21556042e-03],\n",
       "         [ 1.50842765e-05, -2.18633603e-04, -3.78053423e-05],\n",
       "         [ 1.40098752e-04, -1.05410051e-04, -1.52186017e-04],\n",
       "         [-4.92274556e-05, -1.45246899e-04, -1.75999666e-04],\n",
       "         [ 2.80860859e-04,  3.24477266e-05, -2.24088703e-04]]],\n",
       "\n",
       "\n",
       "       [[[-9.17649358e-05,  2.90792950e-04,  2.54600108e-04],\n",
       "         [ 3.18475153e-04, -4.09982504e-04, -4.40838364e-04],\n",
       "         [-1.83727325e-04,  9.95355269e-05,  1.36595996e-04],\n",
       "         [ 8.92469080e-07, -1.47149316e-05, -4.11697695e-06],\n",
       "         [-2.07940295e-06, -7.55091891e-06, -1.45469747e-05],\n",
       "         [ 3.91435021e-06,  2.03652288e-05, -1.19279969e-05],\n",
       "         [-3.03657735e-05, -4.65350233e-06,  1.38763510e-05],\n",
       "         [ 2.48111257e-05,  6.52718253e-06,  1.96604243e-05],\n",
       "         [-4.01556601e-05,  1.96809683e-05,  4.66974324e-05]],\n",
       "\n",
       "        [[ 2.90795912e-04, -9.21487703e-04, -8.06794284e-04],\n",
       "         [-4.09982504e-04,  2.65394901e-03,  2.42613029e-03],\n",
       "         [ 9.95687348e-05, -5.39866972e-05, -7.40244443e-05],\n",
       "         [ 1.68562002e-05, -2.76112429e-04, -7.68991820e-05],\n",
       "         [-3.91419901e-05, -1.41652109e-04, -2.72362251e-04],\n",
       "         [-2.23199916e-04, -1.13294222e-03,  6.62532279e-04],\n",
       "         [ 1.63329014e-03,  2.49784578e-04, -7.41190290e-04],\n",
       "         [-1.38790593e-03, -3.67870372e-04, -1.09450057e-03],\n",
       "         [ 1.97193489e-05, -9.68205962e-06, -2.28915506e-05]],\n",
       "\n",
       "        [[ 2.54596242e-04, -8.06793166e-04, -7.06374528e-04],\n",
       "         [-4.40838364e-04,  2.42613029e-03,  2.25698919e-03],\n",
       "         [ 1.36582249e-04, -7.39811613e-05, -1.01508327e-04],\n",
       "         [ 1.40220450e-05, -2.30865346e-04, -6.42197598e-05],\n",
       "         [-3.26376364e-05, -1.18351836e-04, -2.27623106e-04],\n",
       "         [-2.09069668e-04, -1.06241957e-03,  6.21290938e-04],\n",
       "         [ 1.53407886e-03,  2.34507257e-04, -6.96188491e-04],\n",
       "         [-1.30339622e-03, -3.45360478e-04, -1.02807567e-03],\n",
       "         [ 4.66624906e-05, -2.28659886e-05, -5.42902388e-05]]],\n",
       "\n",
       "\n",
       "       [[[-2.44144777e-03, -3.73462486e-04,  5.03194118e-04],\n",
       "         [-1.83727325e-04,  9.95687348e-05,  1.36582249e-04],\n",
       "         [ 4.03732346e-03,  3.18108047e-04, -2.91742893e-03],\n",
       "         [-3.23908665e-04, -2.51277534e-04,  1.37907414e-04],\n",
       "         [-4.23803299e-04, -1.27505771e-05, -1.33706591e-04],\n",
       "         [-6.72296442e-05,  8.84667477e-05,  2.93642810e-05],\n",
       "         [-5.84581652e-05,  1.71236334e-05,  3.73903221e-05],\n",
       "         [-4.89913615e-05,  6.25515657e-05,  1.04771330e-04],\n",
       "         [-4.89757232e-04,  5.16718681e-05,  2.10192581e-03]],\n",
       "\n",
       "        [[-3.73462913e-04, -5.71275141e-05,  7.69722568e-05],\n",
       "         [ 9.95355269e-05, -5.39866972e-05, -7.39811613e-05],\n",
       "         [ 3.18108047e-04,  3.71638425e-04,  3.82438880e-04],\n",
       "         [-1.14386032e-04, -8.87373330e-05,  4.87025211e-05],\n",
       "         [-1.49642121e-04, -4.49878595e-06, -4.72096691e-05],\n",
       "         [ 6.47371395e-05, -8.51414690e-05, -2.82798693e-05],\n",
       "         [ 5.62875584e-05, -1.64862170e-05, -3.59989143e-05],\n",
       "         [ 4.71532331e-05, -6.02111608e-05, -1.00880012e-04],\n",
       "         [ 5.16695617e-05, -5.44924779e-06, -2.21764032e-04]],\n",
       "\n",
       "        [[ 5.03194199e-04,  7.69725791e-05, -1.03710782e-04],\n",
       "         [ 1.36595996e-04, -7.40244443e-05, -1.01508327e-04],\n",
       "         [-2.91742893e-03,  3.82438880e-04,  9.39469736e-03],\n",
       "         [ 1.82235769e-06,  1.41397859e-06, -7.74685884e-07],\n",
       "         [ 2.37783556e-06,  7.39752010e-08,  7.50991896e-07],\n",
       "         [ 6.60304559e-05, -8.68613779e-05, -2.88395286e-05],\n",
       "         [ 5.73919228e-05, -1.68220451e-05, -3.67107848e-05],\n",
       "         [ 4.80916568e-05, -6.14291255e-05, -1.02919797e-04],\n",
       "         [ 2.10192450e-03, -2.21762420e-04, -9.02098445e-03]]],\n",
       "\n",
       "\n",
       "       [[[-5.03085855e-04, -5.07859377e-04, -3.02234275e-04],\n",
       "         [ 8.92469080e-07,  1.68562002e-05,  1.40220450e-05],\n",
       "         [-3.23908665e-04, -1.14386032e-04,  1.82235769e-06],\n",
       "         [ 3.63279958e-04,  5.57774349e-04, -1.78142374e-04],\n",
       "         [ 5.88465193e-04,  4.27470261e-05,  3.89728695e-04],\n",
       "         [ 1.94561466e-06,  1.32885340e-05,  4.89588239e-06],\n",
       "         [-6.20676419e-06,  1.00587263e-05,  1.15137796e-05],\n",
       "         [ 4.12092682e-06,  8.86454258e-06,  8.63935593e-06],\n",
       "         [-1.25502877e-04, -2.73439689e-05,  4.97545341e-05]],\n",
       "\n",
       "        [[-2.26025005e-03, -2.28169387e-03, -1.35787096e-03],\n",
       "         [-1.47149316e-05, -2.76112429e-04, -2.30865346e-04],\n",
       "         [-2.51277534e-04, -8.87373330e-05,  1.41397859e-06],\n",
       "         [ 5.57774349e-04,  3.55125349e-03, -1.43681845e-03],\n",
       "         [ 2.05047338e-03, -5.69563139e-04,  3.23679886e-03],\n",
       "         [-1.93530777e-05, -1.30993537e-04, -4.79872128e-05],\n",
       "         [ 6.09367716e-05, -9.87751274e-05, -1.13136383e-04],\n",
       "         [-4.02432781e-05, -8.72160923e-05, -8.45790595e-05],\n",
       "         [-8.33456302e-05, -1.81619604e-05,  3.30445734e-05]],\n",
       "\n",
       "        [[ 8.73714370e-04,  8.82003740e-04,  5.24893988e-04],\n",
       "         [-4.11697695e-06, -7.68991820e-05, -6.42197598e-05],\n",
       "         [ 1.37907414e-04,  4.87025211e-05, -7.74685884e-07],\n",
       "         [-1.78142374e-04, -1.43681845e-03,  1.00293731e-03],\n",
       "         [-9.44783802e-04,  6.74654027e-04, -1.32675721e-03],\n",
       "         [-7.10235850e-06, -4.81929136e-05, -1.76877264e-05],\n",
       "         [ 2.24585599e-05, -3.63741064e-05, -4.16663953e-05],\n",
       "         [-1.48374713e-05, -3.21093205e-05, -3.11743147e-05],\n",
       "         [ 1.14902638e-04,  2.50336839e-05, -4.55512091e-05]]],\n",
       "\n",
       "\n",
       "       [[[-1.40981596e-03, -1.42298998e-03, -8.47097692e-04],\n",
       "         [-2.07940295e-06, -3.91419901e-05, -3.26376364e-05],\n",
       "         [-4.23803299e-04, -1.49642121e-04,  2.37783556e-06],\n",
       "         [ 5.88465193e-04,  2.05047338e-03, -9.44783802e-04],\n",
       "         [ 1.52472148e-03, -3.48307570e-04,  1.73540132e-03],\n",
       "         [-1.80717457e-06, -1.23478285e-05, -4.56017418e-06],\n",
       "         [ 5.76631098e-06, -9.33744222e-06, -1.06918074e-05],\n",
       "         [-3.84158139e-06, -8.24629825e-06, -8.04190479e-06],\n",
       "         [-2.77605566e-04, -6.04601502e-05,  1.10033865e-04]],\n",
       "\n",
       "        [[ 3.29400436e-04,  3.32479711e-04,  1.97921945e-04],\n",
       "         [-7.55091891e-06, -1.41652109e-04, -1.18351836e-04],\n",
       "         [-1.27505771e-05, -4.49878595e-06,  7.39752010e-08],\n",
       "         [ 4.27470261e-05, -5.69563139e-04,  6.74654027e-04],\n",
       "         [-3.48307570e-04,  6.01161364e-04, -5.87773565e-04],\n",
       "         [-1.32203971e-05, -8.96375713e-05, -3.28824516e-05],\n",
       "         [ 4.17266348e-05, -6.76202929e-05, -7.74532799e-05],\n",
       "         [-2.75872095e-05, -5.97022307e-05, -5.79529530e-05],\n",
       "         [-4.45742444e-06, -9.66946018e-07,  1.76413882e-06]],\n",
       "\n",
       "        [[-2.02304648e-03, -2.04195240e-03, -1.21556042e-03],\n",
       "         [-1.45469747e-05, -2.72362251e-04, -2.27623106e-04],\n",
       "         [-1.33706591e-04, -4.72096691e-05,  7.50991896e-07],\n",
       "         [ 3.89728695e-04,  3.23679886e-03, -1.32675721e-03],\n",
       "         [ 1.73540132e-03, -5.87773565e-04,  3.01755093e-03],\n",
       "         [-1.81244732e-05, -1.22824181e-04, -4.50436004e-05],\n",
       "         [ 5.71917831e-05, -9.26535008e-05, -1.06144416e-04],\n",
       "         [-3.77774782e-05, -8.18026791e-05, -7.93803619e-05],\n",
       "         [ 4.48802069e-05,  9.77939183e-06, -1.77928093e-05]]],\n",
       "\n",
       "\n",
       "       [[[-4.36826014e-06,  1.93447385e-05,  1.50842765e-05],\n",
       "         [ 3.91435021e-06, -2.23199916e-04, -2.09069668e-04],\n",
       "         [-6.72296442e-05,  6.47371395e-05,  6.60304559e-05],\n",
       "         [ 1.94561466e-06, -1.93530777e-05, -7.10235850e-06],\n",
       "         [-1.80717457e-06, -1.32203971e-05, -1.81244732e-05],\n",
       "         [ 7.96364597e-05,  1.72511848e-04, -1.51719639e-04],\n",
       "         [-2.76852624e-04, -5.54552581e-05,  1.19034898e-04],\n",
       "         [ 2.89789716e-04,  3.37257645e-05,  1.52861575e-04],\n",
       "         [-2.50284375e-05,  2.09091585e-05,  3.30049335e-05]],\n",
       "\n",
       "        [[ 6.32887641e-05, -2.80372513e-04, -2.18633603e-04],\n",
       "         [ 2.03652288e-05, -1.13294222e-03, -1.06241957e-03],\n",
       "         [ 8.84667477e-05, -8.51414690e-05, -8.68613779e-05],\n",
       "         [ 1.32885340e-05, -1.30993537e-04, -4.81929136e-05],\n",
       "         [-1.23478285e-05, -8.96375713e-05, -1.22824181e-04],\n",
       "         [ 1.72511848e-04,  1.71159193e-03, -1.01233370e-03],\n",
       "         [-2.15968449e-03, -3.33389951e-04,  9.86873373e-04],\n",
       "         [ 1.78521811e-03,  3.65017611e-04,  1.60254840e-03],\n",
       "         [ 2.88930844e-05, -2.41322790e-05, -3.81564252e-05]],\n",
       "\n",
       "        [[ 1.09445653e-05, -4.84806714e-05, -3.78053423e-05],\n",
       "         [-1.19279969e-05,  6.62532279e-04,  6.21290938e-04],\n",
       "         [ 2.93642810e-05, -2.82798693e-05, -2.88395286e-05],\n",
       "         [ 4.89588239e-06, -4.79872128e-05, -1.76877264e-05],\n",
       "         [-4.56017418e-06, -3.28824516e-05, -4.50436004e-05],\n",
       "         [-1.51719639e-04, -1.01233370e-03,  9.87719671e-04],\n",
       "         [ 1.44778886e-03,  4.79752845e-04, -4.78821910e-04],\n",
       "         [-1.34847700e-03,  4.74697209e-05, -9.69574421e-04],\n",
       "         [ 2.36912255e-05, -1.97909435e-05, -3.12380801e-05]]],\n",
       "\n",
       "\n",
       "       [[[-4.05716921e-05,  1.79633636e-04,  1.40098752e-04],\n",
       "         [-3.03657735e-05,  1.63329014e-03,  1.53407886e-03],\n",
       "         [-5.84581652e-05,  5.62875584e-05,  5.73919228e-05],\n",
       "         [-6.20676419e-06,  6.09367716e-05,  2.24585599e-05],\n",
       "         [ 5.76631098e-06,  4.17266348e-05,  5.71917831e-05],\n",
       "         [-2.76852624e-04, -2.15968449e-03,  1.44778886e-03],\n",
       "         [ 2.89049038e-03,  5.65305926e-04, -1.23268150e-03],\n",
       "         [-2.46451556e-03, -3.93607884e-04, -2.05175047e-03],\n",
       "         [-1.92861183e-05,  1.61117052e-05,  2.54232410e-05]],\n",
       "\n",
       "        [[ 3.05259081e-05, -1.35157028e-04, -1.05410051e-04],\n",
       "         [-4.65350233e-06,  2.49784578e-04,  2.34507257e-04],\n",
       "         [ 1.71236334e-05, -1.64862170e-05, -1.68220451e-05],\n",
       "         [ 1.00587263e-05, -9.87751274e-05, -3.63741064e-05],\n",
       "         [-9.33744222e-06, -6.76202929e-05, -9.26535008e-05],\n",
       "         [-5.54552581e-05, -3.33389951e-04,  4.79752845e-04],\n",
       "         [ 5.65305926e-04,  2.89185574e-04, -1.12613335e-04],\n",
       "         [-5.58929965e-04,  1.16937020e-04, -3.43314937e-04],\n",
       "         [ 5.36197357e-06, -4.47855609e-06, -7.07212582e-06]],\n",
       "\n",
       "        [[ 4.40728256e-05, -1.95132074e-04, -1.52186017e-04],\n",
       "         [ 1.38763510e-05, -7.41190290e-04, -6.96188491e-04],\n",
       "         [ 3.73903221e-05, -3.59989143e-05, -3.67107848e-05],\n",
       "         [ 1.15137796e-05, -1.13136383e-04, -4.16663953e-05],\n",
       "         [-1.06918074e-05, -7.74532799e-05, -1.06144416e-04],\n",
       "         [ 1.19034898e-04,  9.86873373e-04, -4.78821910e-04],\n",
       "         [-1.23268150e-03, -1.12613335e-04,  6.19104124e-04],\n",
       "         [ 9.99580920e-04,  3.03606969e-04,  9.16226614e-04],\n",
       "         [ 1.79042087e-05, -1.49560661e-05, -2.36127243e-05]]],\n",
       "\n",
       "\n",
       "       [[[ 1.42490548e-05, -6.31222209e-05, -4.92274556e-05],\n",
       "         [ 2.48111257e-05, -1.38790593e-03, -1.30339622e-03],\n",
       "         [-4.89913615e-05,  4.71532331e-05,  4.80916568e-05],\n",
       "         [ 4.12092682e-06, -4.02432781e-05, -1.48374713e-05],\n",
       "         [-3.84158139e-06, -2.75872095e-05, -3.77774782e-05],\n",
       "         [ 2.89789716e-04,  1.78521811e-03, -1.34847700e-03],\n",
       "         [-2.46451556e-03, -5.58929965e-04,  9.99580920e-04],\n",
       "         [ 2.19776532e-03,  2.34234089e-04,  1.68835632e-03],\n",
       "         [-1.33876433e-05,  1.11831668e-05,  1.76867217e-05]],\n",
       "\n",
       "        [[ 4.20389616e-05, -1.86244354e-04, -1.45246899e-04],\n",
       "         [ 6.52718253e-06, -3.67870372e-04, -3.45360478e-04],\n",
       "         [ 6.25515657e-05, -6.02111608e-05, -6.14291255e-05],\n",
       "         [ 8.86454258e-06, -8.72160923e-05, -3.21093205e-05],\n",
       "         [-8.24629825e-06, -5.97022307e-05, -8.18026791e-05],\n",
       "         [ 3.37257645e-05,  3.65017611e-04,  4.74697209e-05],\n",
       "         [-3.93607884e-04,  1.16937020e-04,  3.03606969e-04],\n",
       "         [ 2.34234089e-04,  2.90909472e-04,  3.33229230e-04],\n",
       "         [ 1.39120760e-05, -1.16198919e-05, -1.83574183e-05]],\n",
       "\n",
       "        [[ 5.09425415e-05, -2.25679682e-04, -1.75999666e-04],\n",
       "         [ 1.96604243e-05, -1.09450057e-03, -1.02807567e-03],\n",
       "         [ 1.04771330e-04, -1.00880012e-04, -1.02919797e-04],\n",
       "         [ 8.63935593e-06, -8.45790595e-05, -3.11743147e-05],\n",
       "         [-8.04190479e-06, -5.79529530e-05, -7.93803619e-05],\n",
       "         [ 1.52861575e-04,  1.60254840e-03, -9.69574421e-04],\n",
       "         [-2.05175047e-03, -3.43314937e-04,  9.16226614e-04],\n",
       "         [ 1.68835632e-03,  3.33229230e-04,  1.51647159e-03],\n",
       "         [ 3.45608301e-05, -2.88704141e-05, -4.55739734e-05]]],\n",
       "\n",
       "\n",
       "       [[[-3.52013914e-04, -4.06690810e-05,  2.80860859e-04],\n",
       "         [-4.01556601e-05,  1.97193489e-05,  4.66624906e-05],\n",
       "         [-4.89757232e-04,  5.16695617e-05,  2.10192450e-03],\n",
       "         [-1.25502877e-04, -8.33456302e-05,  1.14902638e-04],\n",
       "         [-2.77605566e-04, -4.45742444e-06,  4.48802069e-05],\n",
       "         [-2.50284375e-05,  2.88930844e-05,  2.36912255e-05],\n",
       "         [-1.92861183e-05,  5.36197357e-06,  1.79042087e-05],\n",
       "         [-1.33876433e-05,  1.39120760e-05,  3.45608301e-05],\n",
       "         [ 1.34273745e-03,  8.91609110e-06, -2.66538696e-03]],\n",
       "\n",
       "        [[-4.06688390e-05, -4.69814370e-06,  3.24477266e-05],\n",
       "         [ 1.96809683e-05, -9.68205962e-06, -2.28659886e-05],\n",
       "         [ 5.16718681e-05, -5.44924779e-06, -2.21762420e-04],\n",
       "         [-2.73439689e-05, -1.81619604e-05,  2.50336839e-05],\n",
       "         [-6.04601502e-05, -9.66946018e-07,  9.77939183e-06],\n",
       "         [ 2.09091585e-05, -2.41322790e-05, -1.97909435e-05],\n",
       "         [ 1.61117052e-05, -4.47855609e-06, -1.49560661e-05],\n",
       "         [ 1.11831668e-05, -1.16198919e-05, -2.88704141e-05],\n",
       "         [ 8.91609110e-06,  7.91890846e-05,  2.40985030e-04]],\n",
       "\n",
       "        [[ 2.80860429e-04,  3.24478096e-05, -2.24088703e-04],\n",
       "         [ 4.66974324e-05, -2.28915506e-05, -5.42902388e-05],\n",
       "         [ 2.10192581e-03, -2.21764032e-04, -9.02098445e-03],\n",
       "         [ 4.97545341e-05,  3.30445734e-05, -4.55512091e-05],\n",
       "         [ 1.10033865e-04,  1.76413882e-06, -1.77928093e-05],\n",
       "         [ 3.30049335e-05, -3.81564252e-05, -3.12380801e-05],\n",
       "         [ 2.54232410e-05, -7.07212582e-06, -2.36127243e-05],\n",
       "         [ 1.76867217e-05, -1.83574183e-05, -4.55739734e-05],\n",
       "         [-2.66538696e-03,  2.40985030e-04,  9.46313219e-03]]]],      dtype=float64)"
      ]
     },
     "execution_count": 6,
     "metadata": {},
     "output_type": "execute_result"
    }
   ],
   "source": [
    "jax.jacfwd(jax.grad(basekernel), argnums=1)(train_x[0], train_x[0], **kernel_kwargs)"
   ]
  },
  {
   "attachments": {},
   "cell_type": "markdown",
   "metadata": {},
   "source": [
    "## Inspecting the sgdml kernelmatrix manually"
   ]
  },
  {
   "cell_type": "code",
   "execution_count": 7,
   "metadata": {},
   "outputs": [
    {
     "data": {
      "text/plain": [
       "(2, 2, 9, 3, 9, 3)"
      ]
     },
     "execution_count": 7,
     "metadata": {},
     "output_type": "execute_result"
    }
   ],
   "source": [
    "from gdml_jax.solve import dkernelmatrix\n",
    "\n",
    "K = dkernelmatrix(basekernel, train_x[:2], train_x[:2], kernel_kwargs=kernel_kwargs, flatten=False)\n",
    "K.shape"
   ]
  },
  {
   "cell_type": "code",
   "execution_count": 8,
   "metadata": {},
   "outputs": [
    {
     "data": {
      "text/plain": [
       "(54, 54)"
      ]
     },
     "execution_count": 8,
     "metadata": {},
     "output_type": "execute_result"
    }
   ],
   "source": [
    "K_flat = dkernelmatrix(basekernel, train_x[:2], train_x[:2], kernel_kwargs=kernel_kwargs, flatten=True)\n",
    "K_flat.shape"
   ]
  },
  {
   "cell_type": "code",
   "execution_count": 9,
   "metadata": {},
   "outputs": [
    {
     "data": {
      "text/plain": [
       "<matplotlib.image.AxesImage at 0x7f2f1c3d3df0>"
      ]
     },
     "execution_count": 9,
     "metadata": {},
     "output_type": "execute_result"
    },
    {
     "data": {
      "image/png": "[encoded data removed]",
      "text/plain": [
       "<Figure size 432x288 with 1 Axes>"
      ]
     },
     "metadata": {
      "needs_background": "light"
     },
     "output_type": "display_data"
    }
   ],
   "source": [
    "import matplotlib.pyplot as plt\n",
    "plt.imshow(K_flat)"
   ]
  },
  {
   "cell_type": "code",
   "execution_count": null,
   "metadata": {},
   "outputs": [],
   "source": []
  }
 ],
 "metadata": {
  "kernelspec": {
   "display_name": "ad-kernels",
   "language": "python",
   "name": "python3"
  },
  "language_info": {
   "codemirror_mode": {
    "name": "ipython",
    "version": 3
   },
   "file_extension": ".py",
   "mimetype": "text/x-python",
   "name": "python",
   "nbconvert_exporter": "python",
   "pygments_lexer": "ipython3",
   "version": "3.8.16"
  },
  "orig_nbformat": 4
 },
 "nbformat": 4,
 "nbformat_minor": 2
}
