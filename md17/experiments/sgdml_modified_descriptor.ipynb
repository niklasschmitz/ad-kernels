{
 "cells": [
  {
   "cell_type": "code",
   "execution_count": 4,
   "metadata": {},
   "outputs": [],
   "source": [
    "import jax\n",
    "import jax.numpy as jnp\n",
    "from jax.config import config\n",
    "from gdml_jax.util.datasets import load_md17, get_symmetries\n",
    "from gdml_jax.models import GDMLPredict, GDMLPredictEnergy\n",
    "from gdml_jax.solve import solve_closed\n",
    "from gdml_jax import losses\n",
    "\n",
    "\n",
    "# Enable double precision.\n",
    "config.update(\"jax_enable_x64\", True)\n",
    "\n",
    "DATA_DIR = \"/tmp/md17\"\n",
    "MOLECULE = \"ethanol\"\n",
    "N_TRAIN = 200\n",
    "N_TEST = 200\n",
    "REG = jnp.float64(1e-10)\n",
    "VALIDATION_SPLIT = 0.8\n",
    "\n",
    "# Data loading.\n",
    "trainset, testset, meta = load_md17(MOLECULE, N_TRAIN, N_TEST, DATA_DIR)\n",
    "train_x, train_e, train_f = trainset\n",
    "\n",
    "# Split train data into train and validation part for hyperparameter search.\n",
    "split = int(jnp.floor(VALIDATION_SPLIT * N_TRAIN))\n",
    "train_x, val_x = train_x[:split], train_x[split:]\n",
    "train_e, val_e = train_e[:split], train_e[split:]\n",
    "train_f, val_f = train_f[:split], train_f[split:]\n",
    "\n",
    "\n",
    "def loss_from_kernel(basekernel, kernel_kwargs, reg=REG):\n",
    "    params = solve_closed(basekernel, train_x, train_f, reg=reg, kernel_kwargs=kernel_kwargs)\n",
    "    force_fn = GDMLPredict(basekernel, train_x)\n",
    "    # The energy_fn also needs train_e and params to estimate the integration constant.\n",
    "    energy_fn = GDMLPredictEnergy(basekernel, train_x, train_e, params)\n",
    "    print(f\"train error:\")\n",
    "    print(f\"forces MAE (component-wise): {losses.mae(train_f, force_fn(params, train_x))}\")\n",
    "    print(f\"energy MAE:                  {losses.mae(train_e, energy_fn(train_x))}\")\n",
    "    print(f\"validation error:\")\n",
    "    print(f\"forces MAE (component-wise): {losses.mae(val_f, force_fn(params, val_x))}\")\n",
    "    print(f\"energy MAE:                  {losses.mae(val_e, energy_fn(val_x))}\")"
   ]
  },
  {
   "cell_type": "code",
   "execution_count": 5,
   "metadata": {},
   "outputs": [
    {
     "name": "stdout",
     "output_type": "stream",
     "text": [
      "train error:\n",
      "forces MAE (component-wise): 0.14117780028317145\n",
      "energy MAE:                  0.2323495020311384\n",
      "validation error (n_valid):\n",
      "forces MAE (component-wise): 2.190765784053275\n",
      "energy MAE:                  0.4103110136129544\n"
     ]
    }
   ],
   "source": [
    "\"\"\"Here we define a custom GDML-style kernel from scratch with a pairwise descriptor.\"\"\"\n",
    "\n",
    "def pairwise_descriptor(x, power):\n",
    "    num_atoms, _ = x.shape\n",
    "    idx_i, idx_j = jnp.triu_indices(num_atoms, k=1)\n",
    "    r_ij = jnp.linalg.norm(x[idx_i] - x[idx_j], axis=1)\n",
    "    assert r_ij.shape == (num_atoms * (num_atoms - 1) // 2,)\n",
    "    return jnp.power(r_ij, -power) # 1 / r_ij ** power\n",
    "\n",
    "def rbf(x1, x2, lengthscale):\n",
    "    return jnp.exp(-jnp.float64(0.5) * jnp.sum(jnp.square(x1 - x2)) / jnp.square(lengthscale))\n",
    "\n",
    "def basekernel(x1, x2, lengthscale, power):\n",
    "    d1 = pairwise_descriptor(x1, power)\n",
    "    d2 = pairwise_descriptor(x2, power)\n",
    "    return rbf(d1, d2, lengthscale)\n",
    "\n",
    "kernel_kwargs = {\"lengthscale\": jnp.float64(5.0), \"power\": jnp.float64(1.0)}\n",
    "loss_from_kernel(basekernel, kernel_kwargs)"
   ]
  },
  {
   "cell_type": "code",
   "execution_count": 6,
   "metadata": {},
   "outputs": [
    {
     "name": "stdout",
     "output_type": "stream",
     "text": [
      "train error:\n",
      "forces MAE (component-wise): 0.44560376328630064\n",
      "energy MAE:                  0.20943909990255635\n",
      "validation error (n_valid):\n",
      "forces MAE (component-wise): 0.769969214088659\n",
      "energy MAE:                  0.15866935875383206\n"
     ]
    }
   ],
   "source": [
    "\"\"\"Here we additionally take selected permutation symmetries into account in the style of sGDML.\"\"\"\n",
    "\n",
    "perms = get_symmetries(MOLECULE)  # precomputed from https://github.com/stefanch/sgdml\n",
    "\n",
    "def symmetrized_basekernel(x1, x2, lengthscale, power):\n",
    "    d1 = pairwise_descriptor(x1, power)\n",
    "    def basekernel_per_permutation(perm):\n",
    "        d2 = pairwise_descriptor(x2[perm], power)\n",
    "        return rbf(d1, d2, lengthscale)\n",
    "    return jnp.mean(jax.vmap(basekernel_per_permutation)(perms))\n",
    "\n",
    "kernel_kwargs = {\"lengthscale\": jnp.float64(5.0), \"power\": jnp.float64(1.0)}\n",
    "loss_from_kernel(symmetrized_basekernel, kernel_kwargs)"
   ]
  },
  {
   "cell_type": "code",
   "execution_count": null,
   "metadata": {},
   "outputs": [],
   "source": []
  }
 ],
 "metadata": {
  "kernelspec": {
   "display_name": "ad-kernels",
   "language": "python",
   "name": "python3"
  },
  "language_info": {
   "codemirror_mode": {
    "name": "ipython",
    "version": 3
   },
   "file_extension": ".py",
   "mimetype": "text/x-python",
   "name": "python",
   "nbconvert_exporter": "python",
   "pygments_lexer": "ipython3",
   "version": "3.8.16"
  },
  "orig_nbformat": 4
 },
 "nbformat": 4,
 "nbformat_minor": 2
}
