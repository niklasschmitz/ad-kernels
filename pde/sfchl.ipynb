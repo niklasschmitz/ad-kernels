{
 "cells": [
  {
   "cell_type": "code",
   "execution_count": 1,
   "metadata": {},
   "outputs": [
    {
     "name": "stderr",
     "output_type": "stream",
     "text": [
      "WARNING:absl:No GPU/TPU found, falling back to CPU. (Set TF_CPP_MIN_LOG_LEVEL=0 and rerun for more info.)\n"
     ]
    }
   ],
   "source": [
    "import jax\n",
    "import jax.numpy as jnp\n",
    "import matplotlib.pyplot as plt\n",
    "from functools import partial\n",
    "\n",
    "from jax.config import config\n",
    "config.update(\"jax_enable_x64\", True)  # enable double precision (very important)\n",
    "\n",
    "# domain-specific representations & kernels for molecules\n",
    "import sys\n",
    "sys.path.append(\"../md17/experiments\")\n",
    "sys.path.append(\"../md17\")\n",
    "from fchl import FCHL19Representation\n",
    "from gdml_jax.util.datasets import load_md17, get_symmetries\n",
    "from gdml_jax.kernels import GDMLKernel, sGDMLKernel, GlobalSymmetryKernel\n",
    "\n",
    "# general operator kernel regression framework\n",
    "import opgp\n",
    "from opgp import build_solve\n",
    "from opgp import build_predict_scalar"
   ]
  },
  {
   "cell_type": "code",
   "execution_count": 2,
   "metadata": {},
   "outputs": [],
   "source": [
    "def rbf(x1, x2, lengthscale=1.0):\n",
    "    return jnp.exp(-0.5 * jnp.sum((x1 - x2) ** 2) / lengthscale**2)\n",
    "\n",
    "def sFCHL19(z, perms, kappa=rbf):\n",
    "    \"\"\"Returns a function that computes a scalar kernel between two molecules.\n",
    "\n",
    "    This is a variant of the sGDML kernel with FCHL19 as descriptors as opposed\n",
    "    to inverse pairwise distances. Only a few physically plausible permutation \n",
    "    symmetries are taken into account to increase efficiency.\"\"\"\n",
    "    return GlobalSymmetryKernel(FCHL19Representation(z), kappa, perms, is_atomwise=True)\n",
    "\n",
    "def mae(a, b):\n",
    "    return jnp.mean(jnp.abs(a - b))\n",
    "\n",
    "def evaluate_errors(f, operators, x, observations):\n",
    "    return {opkey: mae(jax.vmap(op(f))(x[opkey]), observations[opkey]) \n",
    "            for (opkey, op) in operators.items()}\n",
    "\n",
    "def negative(f):\n",
    "    return lambda x: -f(x)"
   ]
  },
  {
   "cell_type": "code",
   "execution_count": 3,
   "metadata": {},
   "outputs": [],
   "source": [
    "datadir = \"/tmp/md17_train\"\n",
    "molecule = \"ethanol\"\n",
    "n_train = 100\n",
    "n_test = 2000\n",
    "\n",
    "trainset, testset, meta = load_md17(molecule, n_train, n_test, datadir)\n",
    "train_x, train_e, train_y = trainset\n",
    "shape = meta[\"shape\"]\n",
    "z = meta[\"z\"]\n",
    "perms = get_symmetries(molecule)\n",
    "# basekernel = partial(GDMLKernel(shape), lengthscale=10.0)\n",
    "basekernel = partial(sGDMLKernel(shape, perms=perms), lengthscale=10.0)\n",
    "# basekernel = partial(sFCHL19(z, perms), lengthscale=10.0) # needs 100GB memory (or batching as implemented in gdml_jax, but not yet in opgp, TODO(niklas))"
   ]
  },
  {
   "cell_type": "code",
   "execution_count": 4,
   "metadata": {},
   "outputs": [
    {
     "data": {
      "text/plain": [
       "{'grad': DeviceArray(1.10090854, dtype=float64)}"
      ]
     },
     "execution_count": 4,
     "metadata": {},
     "output_type": "execute_result"
    }
   ],
   "source": [
    "def fit(k, operators, x, observations):\n",
    "    solve = build_solve(k, operators, solver=\"cholesky\")\n",
    "    alphas = solve(x, observations)\n",
    "    f = build_predict_scalar(k, operators, x, alphas)\n",
    "    return f\n",
    "\n",
    "operators = {\"grad\": jax.grad}\n",
    "x = {\"grad\": train_x}\n",
    "observations  = {\"grad\": train_y}\n",
    "f_negative_energy = fit(basekernel, operators, x, observations)\n",
    "\n",
    "# train error\n",
    "evaluate_errors(f_negative_energy, operators, x, observations)"
   ]
  },
  {
   "cell_type": "code",
   "execution_count": 5,
   "metadata": {},
   "outputs": [
    {
     "data": {
      "text/plain": [
       "{'grad': DeviceArray(1.49639915, dtype=float64)}"
      ]
     },
     "execution_count": 5,
     "metadata": {},
     "output_type": "execute_result"
    }
   ],
   "source": [
    "test_x, test_e, test_y = testset\n",
    "evaluate_errors(f_negative_energy, operators, {\"grad\": test_x}, {\"grad\": test_y})"
   ]
  },
  {
   "cell_type": "markdown",
   "metadata": {},
   "source": [
    "## Include both energies and forces\n",
    "\n",
    "Now we have to respect the sign convention that $F(x) = -\\nabla U(x)$ "
   ]
  },
  {
   "cell_type": "code",
   "execution_count": 6,
   "metadata": {},
   "outputs": [
    {
     "data": {
      "text/plain": [
       "{'id': DeviceArray(0.39844113, dtype=float64),\n",
       " '-grad': DeviceArray(1.10075538, dtype=float64)}"
      ]
     },
     "execution_count": 6,
     "metadata": {},
     "output_type": "execute_result"
    }
   ],
   "source": [
    "train_e_mean = train_e.mean()\n",
    "operators = {\n",
    "    \"id\": lambda f: f, \n",
    "    \"-grad\": lambda f: negative(jax.grad(f))\n",
    "}\n",
    "x = {\"id\": train_x, \"-grad\": train_x}\n",
    "observations  = {\"id\": train_e - train_e_mean, \"-grad\": train_y}\n",
    "f_energy = fit(basekernel, operators, x, observations)\n",
    "\n",
    "# train error\n",
    "evaluate_errors(f_energy, operators, x, observations)"
   ]
  },
  {
   "cell_type": "code",
   "execution_count": 7,
   "metadata": {},
   "outputs": [
    {
     "data": {
      "text/plain": [
       "{'id': DeviceArray(0.49860371, dtype=float64),\n",
       " '-grad': DeviceArray(1.49568216, dtype=float64)}"
      ]
     },
     "execution_count": 7,
     "metadata": {},
     "output_type": "execute_result"
    }
   ],
   "source": [
    "evaluate_errors(f_energy, operators, {\"id\": test_x, \"-grad\": test_x}, {\"id\": test_e - train_e_mean, \"-grad\": test_y})"
   ]
  },
  {
   "cell_type": "code",
   "execution_count": null,
   "metadata": {},
   "outputs": [],
   "source": []
  }
 ],
 "metadata": {
  "interpreter": {
   "hash": "f8f0666bf3e39b2726c2283f6d8ed3c0402ab5c4254d2444a02cef4be525f37a"
  },
  "kernelspec": {
   "display_name": "Python 3.9.5 ('base')",
   "language": "python",
   "name": "python3"
  },
  "language_info": {
   "codemirror_mode": {
    "name": "ipython",
    "version": 3
   },
   "file_extension": ".py",
   "mimetype": "text/x-python",
   "name": "python",
   "nbconvert_exporter": "python",
   "pygments_lexer": "ipython3",
   "version": "3.9.5"
  },
  "orig_nbformat": 4
 },
 "nbformat": 4,
 "nbformat_minor": 2
}
