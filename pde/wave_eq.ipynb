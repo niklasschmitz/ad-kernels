{
 "cells": [
  {
   "cell_type": "code",
   "execution_count": 1,
   "metadata": {},
   "outputs": [
    {
     "name": "stderr",
     "output_type": "stream",
     "text": [
      "WARNING:absl:No GPU/TPU found, falling back to CPU. (Set TF_CPP_MIN_LOG_LEVEL=0 and rerun for more info.)\n"
     ]
    }
   ],
   "source": [
    "import jax\n",
    "import jax.numpy as jnp\n",
    "from opgp import build_solve, build_predict_scalar, residual\n",
    "from functools import partial\n",
    "import matplotlib.pyplot as plt"
   ]
  },
  {
   "cell_type": "markdown",
   "metadata": {},
   "source": [
    "# Wave equation in 1D\n",
    "\n",
    "$$\n",
    "\\left(\\frac{\\partial^2}{\\partial x^2} - \\frac{1}{c^2}\\frac{\\partial^2}{\\partial t^2}\\right) u(x, t) = 0\n",
    "$$"
   ]
  },
  {
   "cell_type": "code",
   "execution_count": 2,
   "metadata": {},
   "outputs": [],
   "source": [
    "c = 1\n",
    "\n",
    "def operator(u):\n",
    "    hessian_u = jax.hessian(u)\n",
    "    def op_u(xt):\n",
    "        h = hessian_u(xt)\n",
    "        uxx = h[0,0]\n",
    "        utt = h[1,1]\n",
    "        return uxx - utt / c**2\n",
    "    return op_u"
   ]
  },
  {
   "cell_type": "code",
   "execution_count": 3,
   "metadata": {},
   "outputs": [
    {
     "data": {
      "text/plain": [
       "<matplotlib.collections.PathCollection at 0x7f24401aed50>"
      ]
     },
     "execution_count": 3,
     "metadata": {},
     "output_type": "execute_result"
    },
    {
     "data": {
      "image/png": "[encoded data removed]",
      "text/plain": [
       "<Figure size 360x360 with 1 Axes>"
      ]
     },
     "metadata": {
      "needs_background": "light"
     },
     "output_type": "display_data"
    }
   ],
   "source": [
    "n_samples = 20\n",
    "rng = jax.random.PRNGKey(0)\n",
    "rng, key1, key2 = jax.random.split(rng, 3)\n",
    "xs = jax.random.uniform(key1, (n_samples,))\n",
    "ts = jax.random.uniform(key2, (n_samples,))\n",
    "plt.figure(figsize=(5,5))\n",
    "plt.scatter(xs, ts)"
   ]
  },
  {
   "cell_type": "markdown",
   "metadata": {},
   "source": [
    "# Boundary conditions"
   ]
  },
  {
   "cell_type": "markdown",
   "metadata": {},
   "source": [
    "![](https://user-images.githubusercontent.com/12683885/91465006-ecde8a80-e895-11ea-935e-2c1d60e3d1f2.png)\n",
    "example from https://neuralpde.sciml.ai/dev/pinn/wave/"
   ]
  },
  {
   "cell_type": "code",
   "execution_count": 4,
   "metadata": {},
   "outputs": [],
   "source": [
    "identity = lambda u: u\n",
    "n1, n2, n3, n4 = 10, 10, 10, 10\n",
    "boundary_x = {\n",
    "    \"u(0,t)\": jnp.stack([jnp.zeros(n1), jnp.linspace(0,1,num=n1)]).T, \n",
    "    \"u(1,t)\": jnp.stack([jnp.ones(n2), jnp.linspace(0,1,num=n2)]).T,\n",
    "    \"u(x,0)\": jnp.stack([jnp.linspace(0,1,num=n3), jnp.zeros(n3)]).T,\n",
    "    \"ut(x,0)\": jnp.stack([jnp.linspace(0,1,num=n4), jnp.zeros(n4)]).T\n",
    "}\n",
    "boundary_ops = {\n",
    "    \"u(0,t)\": identity, \n",
    "    \"u(1,t)\": identity,\n",
    "    \"u(x,0)\": identity,\n",
    "    \"ut(x,0)\": lambda u: lambda xt: -jax.grad(u)(xt)[1]\n",
    "}\n",
    "boundary_obs = {\n",
    "    \"u(0,t)\": jnp.zeros(n1), \n",
    "    \"u(1,t)\": jnp.zeros(n2),\n",
    "    \"u(x,0)\": boundary_x[\"u(x,0)\"][:,0] * (1.0 - boundary_x[\"u(x,0)\"])[:,0],\n",
    "    \"ut(x,0)\": jnp.zeros(n4)\n",
    "}"
   ]
  },
  {
   "cell_type": "markdown",
   "metadata": {},
   "source": [
    "# Build model"
   ]
  },
  {
   "cell_type": "code",
   "execution_count": 5,
   "metadata": {},
   "outputs": [
    {
     "data": {
      "text/plain": [
       "{'u(0,t)': DeviceArray(5.97184691e-07, dtype=float64),\n",
       " 'u(1,t)': DeviceArray(5.75920474e-07, dtype=float64),\n",
       " 'u(x,0)': DeviceArray(2.94994054e-07, dtype=float64),\n",
       " 'ut(x,0)': DeviceArray(6.05825364e-07, dtype=float64),\n",
       " 'wave': DeviceArray(4.31166476e-07, dtype=float64)}"
      ]
     },
     "execution_count": 5,
     "metadata": {},
     "output_type": "execute_result"
    }
   ],
   "source": [
    "def rbf(x1, x2, lengthscale=1.0):\n",
    "    return jnp.exp(-0.5 * jnp.sum((x1-x2)**2) / lengthscale**2)\n",
    "\n",
    "k = partial(rbf, lengthscale=0.2)\n",
    "operators = {\"wave\": operator, **boundary_ops}\n",
    "x = {\"wave\": jnp.stack([xs, ts]).T, **boundary_x}\n",
    "observations = {\"wave\": jnp.zeros(n_samples), **boundary_obs}\n",
    "\n",
    "solve = build_solve(k, operators)\n",
    "alphas = solve(x, observations)\n",
    "u_sol = build_predict_scalar(k, operators, x, alphas)\n",
    "\n",
    "residual(u_sol, x, operators, observations)"
   ]
  },
  {
   "cell_type": "markdown",
   "metadata": {},
   "source": [
    "# Analytic solution"
   ]
  },
  {
   "cell_type": "code",
   "execution_count": 6,
   "metadata": {},
   "outputs": [
    {
     "data": {
      "text/plain": [
       "{'u(0,t)': DeviceArray(0., dtype=float64),\n",
       " 'u(1,t)': DeviceArray(2.15370749e-17, dtype=float64),\n",
       " 'u(x,0)': DeviceArray(1.21101522e-13, dtype=float64),\n",
       " 'ut(x,0)': DeviceArray(0., dtype=float64),\n",
       " 'wave': DeviceArray(1.13567467e-16, dtype=float64)}"
      ]
     },
     "execution_count": 6,
     "metadata": {},
     "output_type": "execute_result"
    }
   ],
   "source": [
    "def u_analytic(xt):\n",
    "    x, t = xt\n",
    "    kterm = lambda k: 8/(k**3*jnp.pi**3) * jnp.sin(k*jnp.pi*x)*jnp.cos(c*k*jnp.pi*t)\n",
    "    ks = jnp.arange(1,10001,step=2)\n",
    "    return jnp.sum(jax.vmap(kterm)(ks))\n",
    "\n",
    "residual(u_analytic, x, operators, observations)"
   ]
  },
  {
   "cell_type": "markdown",
   "metadata": {},
   "source": [
    "# Interpolated boundary baseline"
   ]
  },
  {
   "cell_type": "code",
   "execution_count": 7,
   "metadata": {},
   "outputs": [
    {
     "data": {
      "text/plain": [
       "{'u(0,t)': DeviceArray(5.00460398e-07, dtype=float64),\n",
       " 'u(1,t)': DeviceArray(4.10005176e-07, dtype=float64),\n",
       " 'u(x,0)': DeviceArray(2.47005936e-07, dtype=float64),\n",
       " 'ut(x,0)': DeviceArray(2.34966964e-07, dtype=float64),\n",
       " 'wave': DeviceArray(1.24634601, dtype=float64)}"
      ]
     },
     "execution_count": 7,
     "metadata": {},
     "output_type": "execute_result"
    }
   ],
   "source": [
    "def boundary_only():\n",
    "    k = partial(rbf, lengthscale=0.2)\n",
    "    solve = build_solve(k, boundary_ops)\n",
    "    alphas = solve(boundary_x, boundary_obs)\n",
    "    u = build_predict_scalar(k, boundary_ops, boundary_x, alphas)\n",
    "    return u\n",
    "\n",
    "u_boundary_only = boundary_only()\n",
    "residual(u_boundary_only, x, operators, observations)"
   ]
  },
  {
   "cell_type": "code",
   "execution_count": 8,
   "metadata": {},
   "outputs": [
    {
     "data": {
      "text/plain": [
       "{'u(0,t)': DeviceArray(4.48427038e-07, dtype=float64),\n",
       " 'u(1,t)': DeviceArray(2.15357608e-07, dtype=float64),\n",
       " 'u(x,0)': DeviceArray(1.65057128e-07, dtype=float64),\n",
       " 'ut(x,0)': DeviceArray(1.92377572e-05, dtype=float64),\n",
       " 'wave': DeviceArray(1.24626752, dtype=float64)}"
      ]
     },
     "execution_count": 8,
     "metadata": {},
     "output_type": "execute_result"
    }
   ],
   "source": [
    "def dirichlet_only():\n",
    "    k = partial(rbf, lengthscale=0.2)\n",
    "    dirichlet_keys = (\"u(0,t)\", \"u(1,t)\", \"u(x,0)\")\n",
    "    dirichlet_ops = {key: boundary_ops[key] for key in dirichlet_keys}\n",
    "    dirichlet_x = {key: x[key] for key in dirichlet_keys}\n",
    "    dirichlet_obs = {key: observations[key] for key in dirichlet_keys}\n",
    "    solve = build_solve(k, dirichlet_ops)\n",
    "    alphas = solve(dirichlet_x, dirichlet_obs)\n",
    "    u = build_predict_scalar(k, dirichlet_ops, dirichlet_x, alphas)\n",
    "    return u\n",
    "\n",
    "u_dirichlet_only = dirichlet_only()\n",
    "residual(u_dirichlet_only, x, operators, observations)"
   ]
  },
  {
   "cell_type": "markdown",
   "metadata": {},
   "source": [
    "# Plot"
   ]
  },
  {
   "cell_type": "code",
   "execution_count": 9,
   "metadata": {},
   "outputs": [],
   "source": [
    "a = jnp.linspace(0, 1, 50)\n",
    "xtest = jnp.stack(jnp.meshgrid(a, a), axis=-1).reshape(-1, 2)\n",
    "ux_analytic = jax.vmap(u_analytic)(xtest)\n",
    "ux_sol = jax.vmap(u_sol)(xtest)\n",
    "ux_boundary_only = jax.vmap(u_boundary_only)(xtest)\n",
    "ux_dirichlet_only = jax.vmap(u_dirichlet_only)(xtest)"
   ]
  },
  {
   "cell_type": "code",
   "execution_count": 10,
   "metadata": {},
   "outputs": [
    {
     "data": {
      "image/png": "[encoded data removed]",
      "text/plain": [
       "<Figure size 1458x360 with 5 Axes>"
      ]
     },
     "execution_count": 10,
     "metadata": {},
     "output_type": "execute_result"
    }
   ],
   "source": [
    "def plot():\n",
    "    fig = plt.figure(figsize=(20.25,5))\n",
    "    gs = plt.GridSpec(1,5, width_ratios=[5,5,5,5,0.25])\n",
    "    ax1 = plt.subplot(gs[0])\n",
    "    ax2 = plt.subplot(gs[1])\n",
    "    ax3 = plt.subplot(gs[2])\n",
    "    ax4 = plt.subplot(gs[3])\n",
    "    ax5 = plt.subplot(gs[4])\n",
    "    levels = jnp.linspace(\n",
    "        min(ux.min() for ux in (ux_analytic, ux_sol, ux_boundary_only, ux_dirichlet_only)), \n",
    "        max(ux.max() for ux in (ux_analytic, ux_sol, ux_boundary_only, ux_dirichlet_only)), \n",
    "        num=20\n",
    "    )\n",
    "    ax1.set_title(\"analytic solution u(x,t)\")\n",
    "    c = ax1.tricontourf(*xtest.T, ux_analytic, levels=levels)\n",
    "    ax1.set_aspect(1)\n",
    "    \n",
    "    ax2.set_title(\"reconstructed solution u(x,t)\")\n",
    "    ax2.tricontourf(*xtest.T, ux_sol, levels=levels)\n",
    "    ax2.set_aspect(1)\n",
    "    plt.setp(ax2.get_yticklabels(), visible=False)\n",
    "    \n",
    "    ax3.set_title(\"train on boundary only\")\n",
    "    ax3.tricontourf(*xtest.T, ux_boundary_only, levels=levels)\n",
    "    ax3.set_aspect(1)\n",
    "    plt.setp(ax3.get_yticklabels(), visible=False)\n",
    "    \n",
    "    markers = {\"u(0,t)\": 'x', \"u(1,t)\": 'x',\"u(x,0)\": 'x', \"ut(x,0)\": 'x'}\n",
    "    for key, marker in markers.items():\n",
    "        ax2.scatter(*x[key].T, label=key, marker=marker)\n",
    "        ax3.scatter(*x[key].T, label=key, marker=marker)\n",
    "    ax2.scatter(*x[\"wave\"].T, label=\"wave\", marker='o')\n",
    "    ax2.legend(loc=\"upper left\")\n",
    "    \n",
    "    ax4.set_title(\"train on dirichlet only\")\n",
    "    ax4.tricontourf(*xtest.T, ux_dirichlet_only, levels=levels)\n",
    "    ax4.set_aspect(1)\n",
    "    \n",
    "    plt.colorbar(c, cax=ax5)\n",
    "    plt.close()\n",
    "    return fig\n",
    "    \n",
    "fig = plot()\n",
    "fig"
   ]
  },
  {
   "cell_type": "code",
   "execution_count": 11,
   "metadata": {},
   "outputs": [],
   "source": [
    "fig.savefig(\"wave.pdf\")"
   ]
  },
  {
   "cell_type": "code",
   "execution_count": null,
   "metadata": {},
   "outputs": [],
   "source": []
  }
 ],
 "metadata": {
  "kernelspec": {
   "display_name": "Python 3",
   "language": "python",
   "name": "python3"
  },
  "language_info": {
   "codemirror_mode": {
    "name": "ipython",
    "version": 3
   },
   "file_extension": ".py",
   "mimetype": "text/x-python",
   "name": "python",
   "nbconvert_exporter": "python",
   "pygments_lexer": "ipython3",
   "version": "3.7.8"
  }
 },
 "nbformat": 4,
 "nbformat_minor": 4
}
